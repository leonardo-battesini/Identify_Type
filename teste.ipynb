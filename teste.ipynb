{
 "cells": [
  {
   "cell_type": "code",
   "execution_count": 5,
   "metadata": {},
   "outputs": [
    {
     "name": "stderr",
     "output_type": "stream",
     "text": [
      "WARNING:root:Data value replaced with NaN: nan\n",
      "c:\\dev\\Identify_Type\\identify_type.py:182: SettingWithCopyWarning: \n",
      "A value is trying to be set on a copy of a slice from a DataFrame\n",
      "\n",
      "See the caveats in the documentation: https://pandas.pydata.org/pandas-docs/stable/user_guide/indexing.html#returning-a-view-versus-a-copy\n",
      "  column[i] = np.nan\n",
      "WARNING:root:Data value replaced with NaN: aa\n",
      "WARNING:root:Data value replaced with NaN: nan\n",
      "c:\\dev\\Identify_Type\\identify_type.py:173: SettingWithCopyWarning: \n",
      "A value is trying to be set on a copy of a slice from a DataFrame\n",
      "\n",
      "See the caveats in the documentation: https://pandas.pydata.org/pandas-docs/stable/user_guide/indexing.html#returning-a-view-versus-a-copy\n",
      "  column[i] = column[i].replace(\" \", \"\")\n",
      "c:\\dev\\Identify_Type\\identify_type.py:174: SettingWithCopyWarning: \n",
      "A value is trying to be set on a copy of a slice from a DataFrame\n",
      "\n",
      "See the caveats in the documentation: https://pandas.pydata.org/pandas-docs/stable/user_guide/indexing.html#returning-a-view-versus-a-copy\n",
      "  column[i] = convertStrToStrNumber(column[i])\n",
      "WARNING:root:Column with all values NULL: L_ID_PROTOCOLO_ORIZON\n",
      "WARNING:root:Column with all values NULL: D_NR_REF_SINISTRO_PI\n",
      "WARNING:root:Column with all values NULL: D_COD_GARANTIA_PI\n",
      "WARNING:root:Column with all values NULL: D_COD_NUMPAGO_PI\n",
      "WARNING:root:Column with all values NULL: S_ID_SINISTRO_BATCH\n",
      "WARNING:root:Column with all values NULL: D_ID_DESPESA_BATCH\n",
      "WARNING:root:Column with all values NULL: L_ID_LOTE_RECURSADO\n",
      "WARNING:root:Column with all values NULL: D_ID_DESPESA_ORIGINAL\n",
      "WARNING:root:Column with all values NULL: CD_GRUPO_PRESTADOR\n",
      "WARNING:root:Column with all values NULL: CD_CNES\n",
      "WARNING:root:Column with all values NULL: D_CPF_CNPJ_PRESTADOR_MANUAL\n",
      "WARNING:root:Column with all values NULL: D_NM_PRESTADOR_MANUAL\n",
      "WARNING:root:Column with all values NULL: D_DS_MORADA_PRESTADOR_MANUAL\n",
      "WARNING:root:Column with all values NULL: L_DT_ENVIO_PAGNET\n",
      "WARNING:root:Column with all values NULL: S_DT_ALTERACAO\n",
      "WARNING:root:Column with all values NULL: TP_AUTORIZACAO\n",
      "WARNING:root:Column with all values NULL: DT_SOLICITACAO_AUT\n",
      "WARNING:root:Column with all values NULL: DT_OCORRENCIA_PROVAVEL_AUT\n",
      "WARNING:root:Column with all values NULL: CD_ORIGEM_AUT\n",
      "WARNING:root:Column with all values NULL: S_NR_GUIA_PRINCIPAL\n",
      "WARNING:root:Column with all values NULL: S_NR_GUIA_SOLIC_INT\n",
      "WARNING:root:Column with all values NULL: DT_FATURAMENTO_INICIAL\n",
      "WARNING:root:Column with all values NULL: DT_FATURAMENTO_FINAL\n",
      "WARNING:root:Column with all values NULL: D_ID_ERRO\n",
      "WARNING:root:Column with all values NULL: D_CD_MOTIVO_LIBER_GLOSA\n",
      "WARNING:root:Column with all values NULL: D_DS_MOTIVO_LIBER_GLOSA\n",
      "WARNING:root:Column with all values NULL: D_CD_TAB_REF\n",
      "WARNING:root:Column with all values NULL: CD_GRUPO_PROCEDIMENTO_PARA\n",
      "WARNING:root:Column with all values NULL: DS_GRUPO_PROCEDIMENTO_PARA\n",
      "WARNING:root:Column with all values NULL: NR_CBO_EXECUTANTE\n",
      "WARNING:root:Column with all values NULL: TP_INTERNACAO\n",
      "WARNING:root:Column with all values NULL: TP_REGIME_INTERNACAO\n",
      "WARNING:root:Column with all values NULL: DS_MOTIVO_SAIDA\n",
      "WARNING:root:Column with all values NULL: PAGNET_CD_STATUS\n",
      "WARNING:root:Column with all values NULL: PAGNET_DT_REAL_PGTO\n",
      "WARNING:root:Column with all values NULL: PAGNET_MES_PGTO\n",
      "WARNING:root:Column with all values NULL: PAGNET_DOCSAP\n",
      "WARNING:root:Column with all values NULL: PAGNET_CONCILIA\n",
      "WARNING:root:Column with all values NULL: PAGNET_NR_TRANSACAO\n",
      "WARNING:root:Column with all values NULL: PAGNET_DOC_ORIGEM\n",
      "WARNING:root:Column with all values NULL: PAGNET_FORMA_PGTO\n",
      "WARNING:root:Column with all values NULL: PAGNET_BOLETO_BANCARIO\n",
      "WARNING:root:Column with all values NULL: PAGNET_BANCO_CODIGO\n",
      "WARNING:root:Column with all values NULL: PAGNET_CD_AGENCIA\n",
      "WARNING:root:Column with all values NULL: PAGNET_DG_AGENCIA\n",
      "WARNING:root:Column with all values NULL: PAGNET_CD_CONTA\n",
      "WARNING:root:Column with all values NULL: PAGNET_DG_CONTA\n",
      "WARNING:root:Data value replaced with NaN: abcdefg\n",
      "WARNING:root:Column with all values NULL: CD_PROCEDIMENTO_ORIGINAL\n",
      "WARNING:root:Column with all values NULL: CD_TAB_REF_ORIGINAL\n",
      "WARNING:root:Column with all values NULL: DS_TERMO_ORIGINAL\n",
      "WARNING:root:Column with all values NULL: L_OBS_CAPA\n",
      "WARNING:root:Column with all values NULL: TP_PROCED_DESPESA\n",
      "WARNING:root:Column with all values NULL: FINAL_VIGENCIA_SEGURADO\n",
      "WARNING:root:Column with all values NULL: CD_TABELA_REFERENCIA_ORIG\n",
      "WARNING:root:Column with all values NULL: CD_PROCEDIMENTO_ORIG\n",
      "WARNING:root:Column with all values NULL: DS_PROCEDIMENTO_ORIG\n",
      "WARNING:root:Column with all values NULL: TP_PROCED_DESPESA_ORIG\n",
      "WARNING:root:Column with all values NULL: D_VR_COPART_CALC\n"
     ]
    }
   ],
   "source": [
    "import pandas as pd\n",
    "import identify_type as it\n",
    "\n",
    "df = pd.read_csv(\"files/cabeca.csv\")\n",
    "\n",
    "df = it.trataDf(df)\n",
    "\n",
    "df.to_csv('files/2.csv')"
   ]
  }
 ],
 "metadata": {
  "interpreter": {
   "hash": "26dd5fa8fe1ece55a930cadf74afdd8f0c9a704332174ffe5ac6b6aecdb4e727"
  },
  "kernelspec": {
   "display_name": "Python 3.10.4 64-bit (windows store)",
   "language": "python",
   "name": "python3"
  },
  "language_info": {
   "codemirror_mode": {
    "name": "ipython",
    "version": 3
   },
   "file_extension": ".py",
   "mimetype": "text/x-python",
   "name": "python",
   "nbconvert_exporter": "python",
   "pygments_lexer": "ipython3",
   "version": "3.10.4"
  },
  "orig_nbformat": 4
 },
 "nbformat": 4,
 "nbformat_minor": 2
}
